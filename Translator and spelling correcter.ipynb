{
 "cells": [
  {
   "cell_type": "code",
   "execution_count": 1,
   "id": "3a5cd780",
   "metadata": {},
   "outputs": [],
   "source": [
    "import pandas as pd\n",
    "import numpy as np\n",
    "import googletrans\n",
    "from translate import Translator\n",
    "from deep_translator import GoogleTranslator\n",
    "from textblob import Word\n",
    "from textblob import TextBlob\n"
   ]
  },
  {
   "cell_type": "code",
   "execution_count": 2,
   "id": "8105626e",
   "metadata": {},
   "outputs": [
    {
     "data": {
      "text/html": [
       "<div>\n",
       "<style scoped>\n",
       "    .dataframe tbody tr th:only-of-type {\n",
       "        vertical-align: middle;\n",
       "    }\n",
       "\n",
       "    .dataframe tbody tr th {\n",
       "        vertical-align: top;\n",
       "    }\n",
       "\n",
       "    .dataframe thead th {\n",
       "        text-align: right;\n",
       "    }\n",
       "</style>\n",
       "<table border=\"1\" class=\"dataframe\">\n",
       "  <thead>\n",
       "    <tr style=\"text-align: right;\">\n",
       "      <th></th>\n",
       "      <th>English words/sentences</th>\n",
       "    </tr>\n",
       "  </thead>\n",
       "  <tbody>\n",
       "    <tr>\n",
       "      <th>0</th>\n",
       "      <td>Hi.</td>\n",
       "    </tr>\n",
       "    <tr>\n",
       "      <th>1</th>\n",
       "      <td>Run!</td>\n",
       "    </tr>\n",
       "    <tr>\n",
       "      <th>2</th>\n",
       "      <td>Run!</td>\n",
       "    </tr>\n",
       "    <tr>\n",
       "      <th>3</th>\n",
       "      <td>Who?</td>\n",
       "    </tr>\n",
       "    <tr>\n",
       "      <th>4</th>\n",
       "      <td>Wow!</td>\n",
       "    </tr>\n",
       "  </tbody>\n",
       "</table>\n",
       "</div>"
      ],
      "text/plain": [
       "  English words/sentences\n",
       "0                     Hi.\n",
       "1                    Run!\n",
       "2                    Run!\n",
       "3                    Who?\n",
       "4                    Wow!"
      ]
     },
     "execution_count": 2,
     "metadata": {},
     "output_type": "execute_result"
    }
   ],
   "source": [
    "df=pd.read_csv(\"english.csv\")\n",
    "df.head()"
   ]
  },
  {
   "cell_type": "code",
   "execution_count": 3,
   "id": "c8304cb4",
   "metadata": {},
   "outputs": [
    {
     "data": {
      "text/plain": [
       "175621"
      ]
     },
     "execution_count": 3,
     "metadata": {},
     "output_type": "execute_result"
    }
   ],
   "source": [
    "x=df[\"English words/sentences\"].to_list()\n",
    "len(x)"
   ]
  },
  {
   "cell_type": "code",
   "execution_count": 4,
   "id": "547c8e21",
   "metadata": {},
   "outputs": [
    {
     "name": "stdout",
     "output_type": "stream",
     "text": [
      "[\"He's an expert at throwing knives.\", 'An accident has just happened.', 'Tom seems to want to help Mary.', 'I was very rich until I met her.', 'It looks as if it is going to rain.', 'Many clients come to that lawyer for advice.', 'Could you go to the store?', 'My children were taken away from me.', 'The ice is melting.', \"I've spent all the money.\", 'Tom lived on the west coast.', \"I can't force you to talk.\", \"I'm tired of it.\", \"I'd like to order the same.\", 'Any comments are welcome.']\n"
     ]
    }
   ],
   "source": [
    "x=set(x)\n",
    "x=list(x)\n",
    "print(x[:15])"
   ]
  },
  {
   "cell_type": "code",
   "execution_count": 5,
   "id": "f0a3d29f",
   "metadata": {},
   "outputs": [
    {
     "name": "stdout",
     "output_type": "stream",
     "text": [
      "[\"C'est un expert du lancer de couteaux.\", 'Un accident vient de se produire.']\n"
     ]
    }
   ],
   "source": [
    "french=[]\n",
    "for i in x[:2]:\n",
    "    translated1 = GoogleTranslator(source='auto', target='fr').translate(i)\n",
    "    french.append(translated1)\n",
    "print(french)"
   ]
  },
  {
   "cell_type": "code",
   "execution_count": 6,
   "id": "23e74470",
   "metadata": {},
   "outputs": [
    {
     "name": "stdout",
     "output_type": "stream",
     "text": [
      "['Es un experto en lanzar cuchillos.', 'Acaba de ocurrir un accidente.', 'Tom parece querer ayudar a Mary.']\n"
     ]
    }
   ],
   "source": [
    "spanish=[]\n",
    "\n",
    "for i in x[:3]:\n",
    "    translated2 = GoogleTranslator(target='es').translate(i)\n",
    "    spanish.append(translated2)\n",
    "print(spanish)"
   ]
  },
  {
   "cell_type": "code",
   "execution_count": 7,
   "id": "15e3beb9",
   "metadata": {},
   "outputs": [
    {
     "name": "stdout",
     "output_type": "stream",
     "text": [
      "['Er ist ein Experte im Messerwerfen.', 'Gerade ist ein Unfall passiert.', 'Tom scheint Mary helfen zu wollen.']\n"
     ]
    }
   ],
   "source": [
    "german=[]\n",
    "for i in x[:3]:\n",
    "    translated3 = GoogleTranslator(source='auto', target='de').translate(i)\n",
    "    german.append(translated3)\n",
    "    \n",
    "print(german)"
   ]
  },
  {
   "cell_type": "code",
   "execution_count": 8,
   "id": "9d1d685e",
   "metadata": {},
   "outputs": [
    {
     "data": {
      "text/plain": [
       "['Er ist ein Experte im Messerwerfen.',\n",
       " \"C'est un expert du lancer de couteaux.\",\n",
       " 'Es un experto en lanzar cuchillos.',\n",
       " 'Gerade ist ein Unfall passiert.',\n",
       " 'Un accident vient de se produire.',\n",
       " 'Acaba de ocurrir un accidente.',\n",
       " 'Tom scheint Mary helfen zu wollen.',\n",
       " 'Tom semble vouloir aider Mary.',\n",
       " 'Tom parece querer ayudar a Mary.']"
      ]
     },
     "execution_count": 8,
     "metadata": {},
     "output_type": "execute_result"
    }
   ],
   "source": [
    "#alternate Code\n",
    "target_languages=[\"de\",'fr','spanish']\n",
    "translated_outputs =[]\n",
    "for j in x[:3]:\n",
    "    for target_language in target_languages:\n",
    "        translated_outputs.append(GoogleTranslator(source=\"auto\",target=target_language).translate(j))\n",
    "translated_outputs"
   ]
  },
  {
   "cell_type": "code",
   "execution_count": 9,
   "id": "bd3ebe02",
   "metadata": {},
   "outputs": [],
   "source": [
    "def correct_spelling(sentence):\n",
    "    \n",
    "    sentence = TextBlob(sentence)\n",
    "    \n",
    "    result = sentence.correct()\n",
    "    \n",
    "    print(result)"
   ]
  },
  {
   "cell_type": "code",
   "execution_count": 10,
   "id": "6e87b78e",
   "metadata": {},
   "outputs": [],
   "source": [
    "misspelt_words=[\"cmputr\", \"watr\", \"wriet\", \"athist\", \"acceptible\", \"benifit\", \"acommodate\", \"amatuer\", \"acknowlege\", \"becomeing\", \n",
    "                            \"camoflague\", \"catagory\", \"cauhgt\", \"cematery\", \"apparrent\", \"congradulate\", \"conceed\", \"definit\", \"disasterous\", \"dilema\",\n",
    "                            \"equiptment \", \"excede\", \"experiance\", \"innoculate\", \"extreem\", \"guage\", \"gratful\", \"guidence\", \"heirarchy\", \"dumbell\",\n",
    "                            \"necessery\", \"inteligence\", \"kernal\", \"libary\", \"outragous\", \"marshmellow\", \"miniture\", \"medeval\", \"nieghbor\"]"
   ]
  },
  {
   "cell_type": "code",
   "execution_count": 11,
   "id": "ed79a7b8",
   "metadata": {},
   "outputs": [],
   "source": [
    "misspelt_sents=[\"I am the begt spell cherken\",\"Watre fell on my computr\",\"Athiest is one who does not beleve in God\"]"
   ]
  },
  {
   "cell_type": "code",
   "execution_count": 12,
   "id": "95ce54b9",
   "metadata": {},
   "outputs": [
    {
     "name": "stdout",
     "output_type": "stream",
     "text": [
      "computer\n",
      "war\n",
      "write\n",
      "atheist\n",
      "acceptable\n",
      "benefit\n",
      "accommodate\n",
      "amateur\n",
      "acknowledge\n",
      "becoming\n"
     ]
    }
   ],
   "source": [
    "for i in misspelt_words[:10]:\n",
    "    correct_spelling(i)"
   ]
  },
  {
   "cell_type": "code",
   "execution_count": 13,
   "id": "10481884",
   "metadata": {},
   "outputs": [
    {
     "name": "stdout",
     "output_type": "stream",
     "text": [
      "I am the best spell checked\n",
      "Are fell on my computer\n",
      "Thirst is one who does not believe in God\n"
     ]
    }
   ],
   "source": [
    "for i in misspelt_sents[:10]:\n",
    "    correct_spelling(i)\n",
    "    "
   ]
  },
  {
   "cell_type": "code",
   "execution_count": null,
   "id": "c19fcaca",
   "metadata": {},
   "outputs": [
    {
     "name": "stdout",
     "output_type": "stream",
     "text": [
      "Requirement already satisfied: pyspellchecker in /Users/jijujoseph/opt/anaconda3/lib/python3.9/site-packages (0.7.1)\r\n"
     ]
    }
   ],
   "source": [
    "pip install pyspellchecker"
   ]
  },
  {
   "cell_type": "code",
   "execution_count": null,
   "id": "18a15b15",
   "metadata": {},
   "outputs": [],
   "source": [
    "\n",
    "from spellchecker import SpellChecker\n",
    "\n",
    "def correct_sentence(sentence):\n",
    "    spell = SpellChecker()\n",
    "    corrected_sentence = \" \".join([spell.correction(word) for word in sentence.split()])\n",
    "    return corrected_sentence\n",
    "\n",
    "# Test the function\n",
    "sentence = \"I am the begt spell cherken\"\n",
    "print(\"Original sentence:\", sentence)\n",
    "print(\"Corrected sentence:\", correct_sentence(sentence))"
   ]
  },
  {
   "cell_type": "code",
   "execution_count": null,
   "id": "c9601599",
   "metadata": {},
   "outputs": [],
   "source": []
  }
 ],
 "metadata": {
  "kernelspec": {
   "display_name": "Python 3 (ipykernel)",
   "language": "python",
   "name": "python3"
  },
  "language_info": {
   "codemirror_mode": {
    "name": "ipython",
    "version": 3
   },
   "file_extension": ".py",
   "mimetype": "text/x-python",
   "name": "python",
   "nbconvert_exporter": "python",
   "pygments_lexer": "ipython3",
   "version": "3.9.12"
  }
 },
 "nbformat": 4,
 "nbformat_minor": 5
}
